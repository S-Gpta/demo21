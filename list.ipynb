# declaring list with integer elements
list1 = [10, 20, 30, 40, 50]

# printing list1
print "List element are: ", list1


# printing elements of list1 by index
print "Element @ 0 index:", list1[0]
print "Element @ 1 index:", list1[1]
print "Element @ 2 index:", list1[2]
print "Element @ 3 index:", list1[3]
print "Element @ 4 index:", list1[4]


# declaring list with string elements
list2 = ["New Delhi", "Mumbai", "Chennai", "calcutta"]

# printing list2
print "List elements are: ", list2

#printing elements of list2 by index
print "Element @ 0 index:",list2 [0]
print "Element @ 1 index:",list2 [1]
print "Element @ 2 index:",list2 [2]
print "Element @ 3 index:",list2 [3]
print " " # prints new line
